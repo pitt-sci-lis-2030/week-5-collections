{
 "cells": [
  {
   "cell_type": "markdown",
   "metadata": {},
   "source": [
    "# Week 5 Lecture - Lists\n",
    "\n",
    "Quick refresher on Lists since they are a very important data structure in Python\n",
    "\n",
    "* What is a List?\n",
    "* Indexing Lists\n",
    "* Slicing Lists\n",
    "* List Methods\n"
   ]
  },
  {
   "cell_type": "markdown",
   "metadata": {},
   "source": [
    "## What is a List?\n",
    "\n",
    "A list is a really important *data structure* in the Python programming language. I say data structure instead of data type because lists are more like a container for other kinds of data. A list contains a *sequence* of values in a particular order. Each item gets a number or *index* which indicates its position in the list.\n",
    "\n",
    "You can recognize something is a list by the square brackets: `[  ]`"
   ]
  },
  {
   "cell_type": "code",
   "execution_count": null,
   "metadata": {},
   "outputs": [],
   "source": [
    "# Create a list of numbers and put it in a variable\n",
    "fruit = [\"Apples\", \"Bananas\", \"Oranges\", \"Tomatoes\"]"
   ]
  },
  {
   "cell_type": "markdown",
   "metadata": {},
   "source": [
    "A list can contain any kind of values, they don't all have to be the same."
   ]
  },
  {
   "cell_type": "code",
   "execution_count": null,
   "metadata": {},
   "outputs": [],
   "source": [
    "# Create a list whose last item is another list\n",
    "fruits_n_at = [\"Apples\", \"Oranges\", 23, 9.8, [\"Even\", \"other\", \"lists\"]]"
   ]
  },
  {
   "cell_type": "markdown",
   "metadata": {},
   "source": [
    "When you have stored a list in a variable, you can access the values by *indexing* the list by adding a number surrounded by square brackets after the variable."
   ]
  },
  {
   "cell_type": "code",
   "execution_count": null,
   "metadata": {},
   "outputs": [],
   "source": [
    "# grab the value at index position 1\n",
    "fruit[1]"
   ]
  },
  {
   "cell_type": "markdown",
   "metadata": {},
   "source": [
    "![Confused Cat](https://media.giphy.com/media/jpEmBTjvMJo6i988MP/giphy.gif)"
   ]
  },
  {
   "cell_type": "markdown",
   "metadata": {},
   "source": [
    "You might be wondering, why did it display `Bananas` instead of `Apples`. That is because in computer science world, everying is *index by zero*, which means you start counting at \"0\" intead of \"1\"."
   ]
  },
  {
   "cell_type": "code",
   "execution_count": null,
   "metadata": {},
   "outputs": [],
   "source": [
    "# get the item at index position 0\n",
    "fruit[0]"
   ]
  },
  {
   "cell_type": "code",
   "execution_count": null,
   "metadata": {},
   "outputs": [],
   "source": []
  },
  {
   "cell_type": "markdown",
   "metadata": {},
   "source": [
    "## Slicing Lists\n",
    "\n",
    "If you want to cut a list or grab a subset of a list you can do something called *slicing*. Slicing allows you to specify multiple indices and extract the elements of a list between the specified index positions."
   ]
  },
  {
   "cell_type": "code",
   "execution_count": null,
   "metadata": {},
   "outputs": [],
   "source": [
    "# make a list of all the animals at matt farm\n",
    "matt_farm = [\"barn cat\", \"cattle dog\", \"cows\", \"chickens\", \"ducks\", \"goats\", \"alpaca\", \"spiders\"]"
   ]
  },
  {
   "cell_type": "markdown",
   "metadata": {},
   "source": [
    "Now slice the list stored in the variable named `matt_farm` starting at index position 0 (inclusive, that is, include this position in the results) and up to the index position 2 (exclusive, that is, do not include this position in the results). \n",
    "\n",
    "So this is saying, give us the 0th, and 1st items, up to but not including the 2nd items in the list."
   ]
  },
  {
   "cell_type": "code",
   "execution_count": null,
   "metadata": {},
   "outputs": [],
   "source": [
    "# grab the first two animals in the matt farm list\n",
    "matt_farm[0:2]"
   ]
  },
  {
   "cell_type": "code",
   "execution_count": null,
   "metadata": {},
   "outputs": [],
   "source": [
    "# grab middle animals from matt farm\n",
    "matt_farm[3:7]"
   ]
  },
  {
   "cell_type": "markdown",
   "metadata": {},
   "source": [
    "A handy bit of Python is you can always say \"-1\" to get the last item in the list."
   ]
  },
  {
   "cell_type": "code",
   "execution_count": null,
   "metadata": {},
   "outputs": [],
   "source": [
    "# get the spiders...and burn them with fire\n",
    "matt_farm[-1]"
   ]
  },
  {
   "cell_type": "code",
   "execution_count": null,
   "metadata": {},
   "outputs": [],
   "source": [
    "# Create a function that burns a single parameter called thing.\n",
    "def burn(thing):\n",
    "    # Burn the stringified version of thing\n",
    "    print(\"Setting \" + str(thing) + \" on fire.\")\n",
    "    if thing is \"spiders\": # Check to see if thing is spiders\n",
    "        print(\"MOAR FIRE!\") # DIE DIE DIE\n",
    "    return \"ashes\" # the thing is burned, only ashes remain"
   ]
  },
  {
   "cell_type": "code",
   "execution_count": null,
   "metadata": {},
   "outputs": [],
   "source": [
    "burn(matt_farm[-1])    "
   ]
  },
  {
   "cell_type": "markdown",
   "metadata": {},
   "source": [
    "If you are slicing from the beginning or to the end, you can leave out the first and last index."
   ]
  },
  {
   "cell_type": "code",
   "execution_count": null,
   "metadata": {},
   "outputs": [],
   "source": [
    "# grab all the farm animals from index position 2\n",
    "matt_farm[2:] # same as matt_farm[2:8]"
   ]
  },
  {
   "cell_type": "code",
   "execution_count": null,
   "metadata": {},
   "outputs": [],
   "source": [
    "# Grab the first 4 animals\n",
    "matt_farm[:4] # same as matt_farm[0:4]"
   ]
  },
  {
   "cell_type": "markdown",
   "metadata": {},
   "source": [
    "## List Methods\n",
    "\n",
    "Lists have a set of *methods*. This means there are a bunch of functions that work only with lists. We have already seen `append()`. Remember, `append()` \n",
    "\n",
    "To call a list function, you put a period after the list variable and put the name of function. Because the function call is connected to the list, the function will do something to that list."
   ]
  },
  {
   "cell_type": "code",
   "execution_count": null,
   "metadata": {},
   "outputs": [],
   "source": [
    "matt_farm.reverse()\n"
   ]
  },
  {
   "cell_type": "code",
   "execution_count": null,
   "metadata": {},
   "outputs": [],
   "source": [
    "matt_farm\n"
   ]
  },
  {
   "cell_type": "markdown",
   "metadata": {},
   "source": [
    "\n",
    "Oh no, the spiders are coming, the spiders are coming! Let's get rid of the spiders once and for all."
   ]
  },
  {
   "cell_type": "code",
   "execution_count": null,
   "metadata": {},
   "outputs": [],
   "source": [
    "matt_farm.remove(\"spiders\")"
   ]
  },
  {
   "cell_type": "code",
   "execution_count": null,
   "metadata": {},
   "outputs": [],
   "source": [
    "matt_farm"
   ]
  },
  {
   "cell_type": "markdown",
   "metadata": {},
   "source": [
    "No more spiders. The arachnophobes and mosquitos are happy."
   ]
  },
  {
   "cell_type": "markdown",
   "metadata": {},
   "source": [
    "Read more about all the different list methods in the [Python Tutorial](https://docs.python.org/3/tutorial/datastructures.html), in the [W3C Schools Python Reference](https://www.w3schools.com/python/python_ref_list.asp) "
   ]
  }
 ],
 "metadata": {
  "kernelspec": {
   "display_name": "Python 3",
   "language": "python",
   "name": "python3"
  },
  "language_info": {
   "codemirror_mode": {
    "name": "ipython",
    "version": 3
   },
   "file_extension": ".py",
   "mimetype": "text/x-python",
   "name": "python",
   "nbconvert_exporter": "python",
   "pygments_lexer": "ipython3",
   "version": "3.6.6+"
  }
 },
 "nbformat": 4,
 "nbformat_minor": 2
}
