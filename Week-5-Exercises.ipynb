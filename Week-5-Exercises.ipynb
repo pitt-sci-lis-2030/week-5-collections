{
 "cells": [
  {
   "cell_type": "markdown",
   "metadata": {},
   "source": [
    "### String Slicing"
   ]
  },
  {
   "cell_type": "markdown",
   "metadata": {},
   "source": [
    "**Q1:**\n",
    "Given the string\n",
    "\"4400 Forbes Ave, Pittsburgh, PA 15213\" use ***string slicing*** to extract the street address, city, state, and zip code and put those values into separate variables. Then print the value of each variable.\n",
    "\n",
    "The output should look like:\n",
    "```\n",
    "4400 Forbes Ave\n",
    "Pittsburgh\n",
    "PA\n",
    "15213\n",
    "```"
   ]
  },
  {
   "cell_type": "code",
   "execution_count": null,
   "metadata": {},
   "outputs": [],
   "source": [
    "# insert your code here\n"
   ]
  },
  {
   "cell_type": "markdown",
   "metadata": {},
   "source": [
    "### List Slicing"
   ]
  },
  {
   "cell_type": "markdown",
   "metadata": {},
   "source": [
    "**Q2**: Given a list in variable `list_p`, use ***list slicing*** to produce the following sublist:\n",
    "```\n",
    "['y', 't', 'h', 'o'] \n",
    "```\n",
    " \n"
   ]
  },
  {
   "cell_type": "code",
   "execution_count": null,
   "metadata": {},
   "outputs": [],
   "source": [
    "# insert your code here\n",
    "list_p =['P','y','t','h','o','n']\n"
   ]
  },
  {
   "cell_type": "markdown",
   "metadata": {},
   "source": [
    "### String methods\n",
    "**Q3.**  Write a function called `replacer` that takes two parameters as input, a string and a character, and perform the following:\n",
    "    * First, determine the first character of the input string\n",
    "    * Second, replaces all instances of that first character in the input string with the replacement character\n",
    "    * Third, return modified string (using the `return` statement not `print()`)\n",
    "\n",
    "So for example, given the input string `starwars` and the replacement character `#` the function should return the string `#tarwar#`.\n",
    "\n",
    "Use the code cell provided to test your code *after* you have created your function.\n",
    "\n",
    "**Hint:** Python has a set of built-in methods that you can use on strings. Check [here](https://www.w3schools.com/python/python_ref_string.asp) to review Python built-in methods on strings. Look for a function that will *replace* a value in a string with a new value.\n",
    "\n"
   ]
  },
  {
   "cell_type": "code",
   "execution_count": null,
   "metadata": {},
   "outputs": [],
   "source": [
    "#insert your function definition here\n"
   ]
  },
  {
   "cell_type": "code",
   "execution_count": null,
   "metadata": {},
   "outputs": [],
   "source": [
    "# test your function by running this code cell\n",
    "\n",
    "# run replacer with parameters of string input \"starwars\" and character \"#\"\n",
    "# save the function's output in variable called output\n",
    "output = replacer(\"starwars\", \"#\")\n",
    "# check to see if the output of function is correct\n",
    "assert output == \"#tarwar#\", \"Your function did not return the correct output\"\n",
    "print(\"It worked for starwars!\")\n",
    "\n",
    "# test with star trek strings\n",
    "output = replacer(\"startrekenterprise\", \"p\")\n",
    "assert output == \"ptartrekenterpripe\", \"Your function did not return the correct output\"\n",
    "print(\"It worked for startrek too!\")"
   ]
  },
  {
   "cell_type": "markdown",
   "metadata": {},
   "source": [
    "### List methods\n",
    "\n",
    "**Q4.** Given the following Python list:\n",
    "```python\n",
    "list1 = [5, 10, 15, 20, 25, 50, 20]\n",
    "```\n",
    "Find the index of the integer 20 in the list then replace it with the integer 200. If there are multiple instances of the value 20, only update the first occurrence of a value.\n",
    "\n",
    "The expected output should like this:\n",
    "```python\n",
    "[5, 10, 15, 200, 25, 50, 20]\n",
    "```\n",
    "\n",
    "**Hint:** Check [here](https://www.w3schools.com/python/python_ref_list.asp) to review the Python built-in methods on list. Look for a list method that returns the index of a given value."
   ]
  },
  {
   "cell_type": "code",
   "execution_count": null,
   "metadata": {},
   "outputs": [],
   "source": [
    "#insert your code here\n",
    "list1 = [5, 10, 15, 20, 25, 50, 20]\n",
    "\n"
   ]
  }
 ],
 "metadata": {
  "kernelspec": {
   "display_name": "Python 3",
   "language": "python",
   "name": "python3"
  },
  "language_info": {
   "codemirror_mode": {
    "name": "ipython",
    "version": 3
   },
   "file_extension": ".py",
   "mimetype": "text/x-python",
   "name": "python",
   "nbconvert_exporter": "python",
   "pygments_lexer": "ipython3",
   "version": "3.8.5"
  }
 },
 "nbformat": 4,
 "nbformat_minor": 4
}
