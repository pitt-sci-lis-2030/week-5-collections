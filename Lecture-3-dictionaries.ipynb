{
 "cells": [
  {
   "cell_type": "markdown",
   "metadata": {},
   "source": [
    "# Week 5 Lecture - Dictionaries\n",
    "\n",
    "\n",
    "* What is a Dictionary\n",
    "* key/value pairs\n",
    "* indexing, but no slicing\n",
    "* Loops?\n",
    "* Making a word counter"
   ]
  },
  {
   "cell_type": "markdown",
   "metadata": {},
   "source": [
    "## What is a Dictionary?\n",
    "\n",
    "Similar to a Python list, a Python Dictionary is a data structure that behaves as a *container* or *collection* for other data values. \n",
    "Like a list becuase there are values and each has an index.\n",
    "Not like a list because the indicies are not implicit, they can be more than numbers, and there is no order.\n",
    "In a dicitonary, data is stored in *key*/*value* pairs. The *key* is the index and and *value* is the actual data.\n",
    "When you create an *item* in a dictionary (another term for the key/value pairs) then you store teh data in the dictionary.\n",
    "To get the data back out we use the key to *lookup* the value in the dictionary. In this way the dictionary behaves like a english language dictionary. The key is like the word and the value is like the definition."
   ]
  },
  {
   "cell_type": "code",
   "execution_count": 1,
   "metadata": {},
   "outputs": [],
   "source": [
    "# create a new dictionary\n",
    "english2spanish = dict()\n",
    "# another way to do the same thing using the literal syntax\n",
    "english2spanish = {}"
   ]
  },
  {
   "cell_type": "code",
   "execution_count": 2,
   "metadata": {},
   "outputs": [
    {
     "name": "stdout",
     "output_type": "stream",
     "text": [
      "{'one': 'uno'}\n"
     ]
    }
   ],
   "source": [
    "# add some values by setting the key value pairs using the assignment operator\n",
    "english2spanish[\"one\"] = \"uno\"\n",
    "print(english2spanish) # look at the contents of the entire dictionary"
   ]
  },
  {
   "cell_type": "markdown",
   "metadata": {},
   "source": [
    "Look at the syntax of what Python spit out. Curly braces with two string values separated by a colon. The curly braces mean we are looking at a dictionary (as opposed to a list which uses square brackets `[]`) and the colon always separates the key/value pairs (the *item*). Let's add another item to our `english2spanish` dictionary"
   ]
  },
  {
   "cell_type": "code",
   "execution_count": 3,
   "metadata": {},
   "outputs": [
    {
     "name": "stdout",
     "output_type": "stream",
     "text": [
      "{'one': 'uno', 'two': 'dos'}\n"
     ]
    }
   ],
   "source": [
    "# add another item to the dictionary\n",
    "english2spanish[\"two\"] = \"dos\"\n",
    "print(english2spanish)"
   ]
  },
  {
   "cell_type": "markdown",
   "metadata": {},
   "source": [
    "Now our `english2spanish` dictionary has two items! Each item is separated by a comman (like the way items are separated in lists). Remember, with dictionaries you look at the two things on either side of the colon(`:`) as a single item. The thing to the left of the colon is the key and the right of the colon is the value. So the first item in this dictionary has the key \"one\" and the value \"uno\".\n",
    "\n",
    "We use the familiar *indexing syntax* (square brackets) to get a value based on its key. This is like lists for grabbing an item at  "
   ]
  },
  {
   "cell_type": "code",
   "execution_count": 1,
   "metadata": {},
   "outputs": [
    {
     "data": {
      "text/plain": [
       "'uno'"
      ]
     },
     "execution_count": 1,
     "metadata": {},
     "output_type": "execute_result"
    }
   ],
   "source": [
    "# lookup the value associated with the key\n",
    "english2spanish[\"one\"]"
   ]
  },
  {
   "cell_type": "code",
   "execution_count": 2,
   "metadata": {},
   "outputs": [
    {
     "ename": "KeyError",
     "evalue": "'uno'",
     "output_type": "error",
     "traceback": [
      "\u001b[0;31m---------------------------------------------------------------------------\u001b[0m",
      "\u001b[0;31mKeyError\u001b[0m                                  Traceback (most recent call last)",
      "\u001b[0;32m<ipython-input-2-bcec473b5a37>\u001b[0m in \u001b[0;36m<module>\u001b[0;34m\u001b[0m\n\u001b[1;32m      1\u001b[0m \u001b[0;31m# you can't look up by value\u001b[0m\u001b[0;34m\u001b[0m\u001b[0;34m\u001b[0m\u001b[0m\n\u001b[0;32m----> 2\u001b[0;31m \u001b[0menglish2spanish\u001b[0m\u001b[0;34m[\u001b[0m\u001b[0;34m\"uno\"\u001b[0m\u001b[0;34m]\u001b[0m\u001b[0;34m\u001b[0m\u001b[0m\n\u001b[0m",
      "\u001b[0;31mKeyError\u001b[0m: 'uno'"
     ]
    }
   ],
   "source": [
    "# you can't look up by value\n",
    "english2spanish[\"uno\"]"
   ]
  },
  {
   "cell_type": "markdown",
   "metadata": {},
   "source": [
    "Dictionary keys must be basic data types (ints and strings are most common, but floats work too)"
   ]
  },
  {
   "cell_type": "code",
   "execution_count": 5,
   "metadata": {},
   "outputs": [
    {
     "data": {
      "text/plain": [
       "'four point five'"
      ]
     },
     "execution_count": 5,
     "metadata": {},
     "output_type": "execute_result"
    }
   ],
   "source": [
    "floaty_keys = {4.5:\"four point five\", 2.1:\"Two point one\"}\n",
    "floaty_keys[4.5]"
   ]
  },
  {
   "cell_type": "markdown",
   "metadata": {},
   "source": [
    "Dictionary values can be any Python data type or data structure, even more dictionaries!"
   ]
  },
  {
   "cell_type": "code",
   "execution_count": 2,
   "metadata": {},
   "outputs": [
    {
     "data": {
      "text/plain": [
       "{'name': 'Bobby McGee', 'occupation': 'seartbreaker', 'age': None}"
      ]
     },
     "execution_count": 2,
     "metadata": {},
     "output_type": "execute_result"
    }
   ],
   "source": [
    "# make a \"database\" of users\n",
    "user_info = {1:{\"name\":\"Bobby McGee\",\"occupation\":\"seartbreaker\", \"age\":None},\n",
    "            2:{\"name\":\"Kris Kristofferson\", \"occupation\":\"singer-songwriter\", \"age\":84},\n",
    "            3:{\"name\":\"Ray Price\", \"occupation\":\"crooner\", \"age\":87}}"
   ]
  },
  {
   "cell_type": "code",
   "execution_count": 3,
   "metadata": {},
   "outputs": [
    {
     "data": {
      "text/plain": [
       "{'name': 'Bobby McGee', 'occupation': 'seartbreaker', 'age': None}"
      ]
     },
     "execution_count": 3,
     "metadata": {},
     "output_type": "execute_result"
    }
   ],
   "source": [
    "# get all the information about user id 1\n",
    "user_info[1]"
   ]
  },
  {
   "cell_type": "code",
   "execution_count": 4,
   "metadata": {},
   "outputs": [
    {
     "data": {
      "text/plain": [
       "'Bobby McGee'"
      ]
     },
     "execution_count": 4,
     "metadata": {},
     "output_type": "execute_result"
    }
   ],
   "source": [
    "# get the value for the key \"name\" for user 1\n",
    "user_info[1][\"name\"]"
   ]
  },
  {
   "cell_type": "markdown",
   "metadata": {},
   "source": [
    "Dictionaries are used to store hierarchial data. Because you can nest a dictionary (or list) inside of a dictionary, this allows you to create arbitrarily complex structures of data. "
   ]
  },
  {
   "cell_type": "code",
   "execution_count": null,
   "metadata": {},
   "outputs": [],
   "source": []
  }
 ],
 "metadata": {
  "kernelspec": {
   "display_name": "Python 3",
   "language": "python",
   "name": "python3"
  },
  "language_info": {
   "codemirror_mode": {
    "name": "ipython",
    "version": 3
   },
   "file_extension": ".py",
   "mimetype": "text/x-python",
   "name": "python",
   "nbconvert_exporter": "python",
   "pygments_lexer": "ipython3",
   "version": "3.6.6+"
  }
 },
 "nbformat": 4,
 "nbformat_minor": 2
}
