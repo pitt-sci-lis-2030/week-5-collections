{
 "cells": [
  {
   "cell_type": "markdown",
   "metadata": {},
   "source": [
    "# Week 5 Exercises"
   ]
  },
  {
   "cell_type": "markdown",
   "metadata": {},
   "source": [
    "You have five exercises this week covering different elements of the lecture and readings.\n",
    "\n",
    "1. Lists, with a dash of functions\n",
    "2. Nested loops with lists\n",
    "3. Searching through strings with functions and string methods\n",
    "4. \n",
    "\n",
    "\n"
   ]
  },
  {
   "cell_type": "markdown",
   "metadata": {},
   "source": [
    "\n",
    "### Iteration "
   ]
  },
  {
   "cell_type": "markdown",
   "metadata": {},
   "source": [
    "**Q1**: Write a program that compares two lists and prints items that exist in *both* lists\n",
    "\n",
    "*  **Hint**: we're going to use the power of the *in* keyword and a single loop"
   ]
  },
  {
   "cell_type": "code",
   "execution_count": null,
   "metadata": {},
   "outputs": [],
   "source": [
    "listOne = [\"Apple\", \"Blueberry\", \"Orange\"]\n",
    "listTwo = [\"Dell\", \"Lenovo\", \"Apple\"]\n",
    "\n",
    "#insert your code here\n"
   ]
  },
  {
   "cell_type": "code",
   "execution_count": null,
   "metadata": {},
   "outputs": [],
   "source": []
  },
  {
   "cell_type": "code",
   "execution_count": null,
   "metadata": {},
   "outputs": [],
   "source": []
  },
  {
   "cell_type": "code",
   "execution_count": null,
   "metadata": {},
   "outputs": [],
   "source": []
  },
  {
   "cell_type": "code",
   "execution_count": null,
   "metadata": {},
   "outputs": [],
   "source": []
  },
  {
   "cell_type": "code",
   "execution_count": null,
   "metadata": {},
   "outputs": [],
   "source": []
  },
  {
   "cell_type": "code",
   "execution_count": null,
   "metadata": {},
   "outputs": [],
   "source": []
  },
  {
   "cell_type": "code",
   "execution_count": null,
   "metadata": {},
   "outputs": [],
   "source": []
  },
  {
   "cell_type": "code",
   "execution_count": 2,
   "metadata": {},
   "outputs": [
    {
     "output_type": "stream",
     "name": "stdout",
     "text": [
      "Apple\n"
     ]
    }
   ],
   "source": [
    "# Answer\n",
    "listOne = [\"Apple\", \"Blueberry\", \"Orange\"]\n",
    "listTwo = [\"Dell\", \"Lenovo\", \"Apple\"]\n",
    "\n",
    "for item in listOne :  # let's iterate through ever item in list 1\n",
    "    if item in listTwo : # for each item in list 1, will will set a conditional asking if that item from list 1 is *in* list 2.\n",
    "        print(item) # if true we print the item"
   ]
  },
  {
   "cell_type": "markdown",
   "metadata": {},
   "source": [
    "**Q2**: Use a nested loop, *a loop inside another loop* to traverse a multidimensional list to create a single dimensional list of all the items.  More simply, let's flatten a list."
   ]
  },
  {
   "cell_type": "code",
   "execution_count": 3,
   "metadata": {},
   "outputs": [],
   "source": [
    "multiList = [[\"Jake\", \"Matt\"], [\"Ning\", \"Sunny\", \"Zoe\"]]\n",
    "# insert your code here\n"
   ]
  },
  {
   "cell_type": "code",
   "execution_count": null,
   "metadata": {},
   "outputs": [],
   "source": []
  },
  {
   "cell_type": "code",
   "execution_count": null,
   "metadata": {},
   "outputs": [],
   "source": []
  },
  {
   "cell_type": "code",
   "execution_count": null,
   "metadata": {},
   "outputs": [],
   "source": []
  },
  {
   "cell_type": "code",
   "execution_count": null,
   "metadata": {},
   "outputs": [],
   "source": []
  },
  {
   "cell_type": "code",
   "execution_count": null,
   "metadata": {},
   "outputs": [],
   "source": []
  },
  {
   "cell_type": "code",
   "execution_count": null,
   "metadata": {},
   "outputs": [],
   "source": []
  },
  {
   "cell_type": "code",
   "execution_count": 4,
   "metadata": {},
   "outputs": [
    {
     "output_type": "stream",
     "name": "stdout",
     "text": [
      "['Jake', 'Matt', 'Ning', 'Sunny', 'Zoe']\n"
     ]
    }
   ],
   "source": [
    "# Answer\n",
    "multiList = [[\"Jake\", \"Matt\"], [\"Ning\", \"Sunny\", \"Zoe\"]]\n",
    "\n",
    "flatList = [] # create an empty new list that will be out flatlist\n",
    "for item in multiList:  # go through each item in the the first dimension of the list\n",
    "    for subitem in item : # for each sub list, go through each item in the nested list\n",
    "        flatList.append(subitem) # recall to grow a list we must use the append function!\n",
    "\n",
    "print(flatList)"
   ]
  },
  {
   "cell_type": "markdown",
   "metadata": {},
   "source": [
    "**Q3**: Write a function that takes in two string, the function should return the number of times the second string occurs in the first.  \n",
    "\n",
    "We'll test this a on a set of text to count the number of times an author's name is used in thier biography.\n",
    "\n",
    "**hint**: that split function from lecture is our superpower\n"
   ]
  },
  {
   "cell_type": "code",
   "execution_count": 6,
   "metadata": {},
   "outputs": [],
   "source": [
    "maya = '''\n",
    "Maya Angelou was a civil rights activist, poet and award-winning author known for her acclaimed 1969 memoir, 'I Know Why the Caged Bird Sings,' and her numerous poetry and essay collections.\n",
    "Who Was Maya Angelou?\n",
    "\n",
    "Maya Angelou was an American author, actress, screenwriter, dancer, poet and civil rights activist best known for her 1969 memoir, I Know Why the Caged Bird Sings, which made literary history as the first nonfiction bestseller by an African American woman. Angelou received several honors throughout her career, including two NAACP Image Awards in the outstanding literary work (nonfiction) category, in 2005 and 2009. \n",
    "\n",
    "Early Life\n",
    "\n",
    "Angelou was born on April 4, 1928, in St. Louis, Missouri. Angelou had a difficult childhood. Her parents split up when she was very young, and she and her older brother, Bailey, were sent to live with their father's mother, Anne Henderson, in Stamps, Arkansas.\n",
    "\n",
    "As an African American, Angelou experienced firsthand racial prejudices and discrimination in Arkansas. She also suffered at the hands of a family associate around the age of 7: During a visit with her mother, Angelou was raped by her mother's boyfriend. As vengeance for the sexual assault, Angelou's uncles killed the boyfriend.\n",
    "\n",
    "So traumatized by the experience, Angelou stopped talking. She returned to Arkansas and spent years as a virtual mute.\n",
    "\n",
    "Education\n",
    "\n",
    "During World War II, Angelou moved to San Francisco, California. There she won a scholarship to study dance and acting at the California Labor School.\n",
    "\n",
    "Also during this time, Angelou became the first Black female cable car conductor — a job she held only briefly — in San Francisco.\n",
    "\n",
    "\n",
    "Acting and Singing Career\n",
    "\n",
    "In the mid-1950s, Angelou's career as a performer began to take off. She landed a role in a touring production of Porgy and Bess, later appearing in the off-Broadway production Calypso Heat Wave (1957) and releasing her first album, Miss Calypso (1957).\n",
    "\n",
    "A member of the Harlem Writers Guild and a civil rights activist, Angelou organized and starred in the musical revue Cabaret for Freedom as a benefit for the Southern Christian Leadership Conference, also serving as the SCLC's northern coordinator.\n",
    "\n",
    "\n",
    "In 1961, Angelou appeared in an off-Broadway production of Jean Genet's The Blacks with James Earl Jones, Lou Gossett Jr. and Cicely Tyson.\n",
    "\n",
    "Angelou went on to earn a Tony Award nomination for her role in the play Look Away (1973) and an Emmy Award nomination for her work on the television miniseries Roots (1977), among other honors.\n",
    "'''\n",
    "#insert your code here\n",
    "\n"
   ]
  },
  {
   "cell_type": "code",
   "execution_count": null,
   "metadata": {},
   "outputs": [],
   "source": []
  },
  {
   "cell_type": "code",
   "execution_count": null,
   "metadata": {},
   "outputs": [],
   "source": []
  },
  {
   "cell_type": "code",
   "execution_count": null,
   "metadata": {},
   "outputs": [],
   "source": []
  },
  {
   "cell_type": "code",
   "execution_count": null,
   "metadata": {},
   "outputs": [],
   "source": []
  },
  {
   "cell_type": "code",
   "execution_count": null,
   "metadata": {},
   "outputs": [],
   "source": []
  },
  {
   "cell_type": "code",
   "execution_count": 8,
   "metadata": {},
   "outputs": [
    {
     "output_type": "stream",
     "name": "stdout",
     "text": [
      "13\n3\n"
     ]
    }
   ],
   "source": [
    "\n",
    "\n",
    "def countNames(bigText, searchText) :\n",
    "    # lets first split the big text in to a list of words\n",
    "    listOfWordsInBigText = bigText.split()\n",
    "\n",
    "    #lets set a counter\n",
    "    count = 0\n",
    "    for word in listOfWordsInBigText:  # now let's iterate through the words in the list of words\n",
    "        if word == searchText : # if the current word we are iterating through is the search word then...\n",
    "            count = count + 1. # let's increase out count\n",
    "    \n",
    "    return count. # when we are done looking at all the words, we return out count\n",
    "\n",
    "\n",
    "angelouCount = countNames(maya, \"Angelou\")\n",
    "print(angelouCount)\n",
    "\n",
    "mayaCount = countNames(maya, \"Maya\")\n",
    "print(mayaCount)"
   ]
  }
 ],
 "metadata": {
  "kernelspec": {
   "display_name": "Python 3",
   "language": "python",
   "name": "python3"
  },
  "language_info": {
   "codemirror_mode": {
    "name": "ipython",
    "version": 3
   },
   "file_extension": ".py",
   "mimetype": "text/x-python",
   "name": "python",
   "nbconvert_exporter": "python",
   "pygments_lexer": "ipython3",
   "version": "3.8.2-final"
  }
 },
 "nbformat": 4,
 "nbformat_minor": 4
}